{
 "cells": [
  {
   "cell_type": "markdown",
   "metadata": {},
   "source": [
    "# Unit 5 - Financial Planning - Alternate Solution"
   ]
  },
  {
   "cell_type": "code",
   "execution_count": 5,
   "metadata": {},
   "outputs": [],
   "source": [
    "# Initial imports\n",
    "import os\n",
    "import requests\n",
    "import pandas as pd\n",
    "# from dotenv import load_dotenv\n",
    "# import alpaca_trade_api as tradeapi\n",
    "\n",
    "from datetime import datetime                   # Import datetime function\n",
    "from datetime import timedelta                  # Import timedelta function\n",
    "\n",
    "from NewForecastTools import MCSimulation       # Import Geometric Brownian Motion (GBM) Monte Carlo simulation model\n",
    "\n",
    "import json\n",
    "import seaborn as sns\n",
    "\n",
    "%matplotlib inline"
   ]
  },
  {
   "cell_type": "markdown",
   "metadata": {},
   "source": [
    "# Initialise Global Variables"
   ]
  },
  {
   "cell_type": "code",
   "execution_count": 6,
   "metadata": {},
   "outputs": [],
   "source": [
    "# Load .env enviroment variables - these are critical so if any error occurs then stop the script\n",
    "# If the .env file can't be loaded then print a useful error message and end the script\n",
    "if not load_dotenv():                                                                                        # Couldn't load the .env file?\n",
    "    print(\"Error: could not load .env file. Refer to README.md for instructions on how to set this up.\")     #   Print an error message\n",
    "    exit()                                                                                                   #   Stop the script from proceeding"
   ]
  },
  {
   "cell_type": "code",
   "execution_count": 11,
   "metadata": {},
   "outputs": [
    {
     "name": "stdout",
     "output_type": "stream",
     "text": [
      "Warning: ALPACA_BASE_URL configuration not found in .env file. Defaulting to 'https://paper-api.alpaca.markets'\n"
     ]
    }
   ],
   "source": [
    "# Initialise variables needed for the Alpaca Markets API\n",
    "# Note: The ALPACA_API_KEY and ALPACA_SECRET_KEY are critical for accessing the necessary data. For security reasons these are not initialised in the clear and only fetched from\n",
    "# the .env file. If we can't fetch them then we warn the user and stop the script.\n",
    "\n",
    "# Try getting the ALPACA_API_KEY\n",
    "alpaca_api_key = os.environ.get('ALPACA_API_KEY')        # Fetch the api key from the .env file\n",
    "if not (alpaca_api_key):                                 # If we couldn't read a valid value...\n",
    "    print(\"Error: 'ALPACA_API_KEY' has not been configured correctly in your .env file. Refer to README.md for instructions on how to set this up.\")     #    print an error message\n",
    "    exit()                                               #   Stop the script from proceeding\n",
    "    \n",
    "alpaca_secret_key = os.environ.get('ALPACA_SECRET_KEY')  # Fetch the secret key from the .env file\n",
    "if not (alpaca_secret_key):                              # If we couldn't read a valid value..\n",
    "    print(\"Error: 'ALPACA_SECRET_KEY' has not been configured correctly in your .env file. Refer to README.md for instructions on how to set this up.\")     #    print an error message\n",
    "    exit()                                               #   Stop the script from proceeding\n",
    "\n",
    "# The ALPACA_BASE_URL is not as critical and can be shown in the \"clear\". We default to the paper-trading environment if it is not configured in the .env file.\n",
    "alpaca_base_url = os.environ.get('ALPACA_BASE_URL')                                                       # Try to fetch Alpaca's base url from the .env file. \n",
    "if not(alpaca_base_url):                                                                                  # If the base url isn't configured in the .env file then...\n",
    "    alpaca_base_url = \"https://paper-api.alpaca.markets\"                                                  #   default Alpaca's base url to the paper trading environment, and \n",
    "    print(f\"Warning: ALPACA_BASE_URL configuration not found in .env file. Defaulting to '{alpaca_base_url}'\")     #   print a warning for the user they are using the paper trading environment\n",
    "\n",
    "alpaca_api_version = \"v2\"                                # Set the Alpaca API version we will use\n",
    "\n",
    "# Create the Alpaca API object\n",
    "alpaca_api = tradeapi.REST(key_id=alpaca_api_key, secret_key=alpaca_secret_key, base_url=alpaca_base_url, api_version=alpaca_api_version)\n"
   ]
  },
  {
   "cell_type": "code",
   "execution_count": 12,
   "metadata": {
    "tags": []
   },
   "outputs": [
    {
     "name": "stdout",
     "output_type": "stream",
     "text": [
      "Info: Your Alpaca account status is [ACTIVE]\n"
     ]
    }
   ],
   "source": [
    "# Check status of the Alpaca trading account\n",
    "account = alpaca_api.get_account()            # Get details of the account (code provided by Alpaca Trade API)\n",
    "account_status = account.status               # Grab the account status    (code provided by Alpaca Trade API)\n",
    "\n",
    "print(f\"Info: Your Alpaca account status is [{account_status}]\")  # Show the current account status\n",
    "if not (account_status == \"ACTIVE\"):                             # If the account status is not Active                            \n",
    "    print(\"Error: Your account status is not Active. Please activate your account or check your Alpaca keys are correct.\")   # Show the error messsage, and a helpful way to resolve\n",
    "    exit()                                                                                                                   # Stop the script from proceeding"
   ]
  },
  {
   "cell_type": "code",
   "execution_count": null,
   "metadata": {},
   "outputs": [],
   "source": [
    "# Initialise general global variables"
   ]
  },
  {
   "cell_type": "code",
   "execution_count": 67,
   "metadata": {},
   "outputs": [],
   "source": [
    "# Intialise the makeup of the portfolio.\n",
    "# *** Nice to have: read the portfolio from a csv or database or a GUI (which then save to a csv or database)\n",
    "\n",
    "# Column names for the portfolio dataframe\n",
    "column_names =     [\"Ticker Code\", \"Qty Owned\", \"Buy Price\", \"Purchase Date\"]       # Ticker Code, Quantity of Shares Owned, Original Purchase Price per share, Purchase Date\n",
    "\n",
    "portfolio_list = [\n",
    "# Set your portfolio contents here...\n",
    "#                  ** Ticker **  Qty   **  Buy   **  Purchase Date ** \n",
    "#                  ** Code   **  Owned **  Price **  YYYY-MM-DD    **\n",
    "                   [ \"V\",       123.0,    44.32,    \"2021-11-10\"   ],\n",
    "                   [ \"USB\",      59.0,    43.11,    \"2021-11-15\"   ],\n",
    "                   [ \"USB\",      90.0,    42.67,    \"2021-11-16\"   ],\n",
    "                   [ \"AXP\",     234.0,    12.43,    \"2020-07-22\"   ],\n",
    "                   [ \"MA\",      115.0,    11.01,    \"2020-08-25\"   ],\n",
    "                   [ \"MA\",      112.0,    12.15,    \"2020-08-28\"   ]\n",
    "]\n",
    "\n",
    "# Initialise the portfolio composition.\n",
    "portfolio_df = pd.DataFrame(portfolio_list, columns=column_names) # Note we may have multiple entried for the same stock so we can't index the Ticker Code.\n",
    "\n",
    "currency_code = \"USD\"            # Set the default currency code which we will be working with.  *** Nice to have: include multi-currency support and currency conversion.\n",
    "base_market_index_code = \"SPY\"   # Set the market index code to be used for comparative purposes against the portfolio.  *** Nice to have: user selects from a list"
   ]
  },
  {
   "cell_type": "code",
   "execution_count": 68,
   "metadata": {
    "tags": []
   },
   "outputs": [
    {
     "data": {
      "text/html": [
       "<div>\n",
       "<style scoped>\n",
       "    .dataframe tbody tr th:only-of-type {\n",
       "        vertical-align: middle;\n",
       "    }\n",
       "\n",
       "    .dataframe tbody tr th {\n",
       "        vertical-align: top;\n",
       "    }\n",
       "\n",
       "    .dataframe thead th {\n",
       "        text-align: right;\n",
       "    }\n",
       "</style>\n",
       "<table border=\"1\" class=\"dataframe\">\n",
       "  <thead>\n",
       "    <tr style=\"text-align: right;\">\n",
       "      <th></th>\n",
       "      <th>Ticker Code</th>\n",
       "      <th>Qty Owned</th>\n",
       "      <th>Buy Price</th>\n",
       "      <th>Purchase Date</th>\n",
       "    </tr>\n",
       "  </thead>\n",
       "  <tbody>\n",
       "    <tr>\n",
       "      <th>0</th>\n",
       "      <td>V</td>\n",
       "      <td>123.0</td>\n",
       "      <td>44.32</td>\n",
       "      <td>2021-11-10</td>\n",
       "    </tr>\n",
       "    <tr>\n",
       "      <th>1</th>\n",
       "      <td>USB</td>\n",
       "      <td>59.0</td>\n",
       "      <td>43.11</td>\n",
       "      <td>2021-11-15</td>\n",
       "    </tr>\n",
       "    <tr>\n",
       "      <th>2</th>\n",
       "      <td>USB</td>\n",
       "      <td>90.0</td>\n",
       "      <td>42.67</td>\n",
       "      <td>2021-11-16</td>\n",
       "    </tr>\n",
       "    <tr>\n",
       "      <th>3</th>\n",
       "      <td>AXP</td>\n",
       "      <td>234.0</td>\n",
       "      <td>12.43</td>\n",
       "      <td>2020-07-22</td>\n",
       "    </tr>\n",
       "    <tr>\n",
       "      <th>4</th>\n",
       "      <td>MA</td>\n",
       "      <td>115.0</td>\n",
       "      <td>11.01</td>\n",
       "      <td>2020-08-25</td>\n",
       "    </tr>\n",
       "    <tr>\n",
       "      <th>5</th>\n",
       "      <td>MA</td>\n",
       "      <td>112.0</td>\n",
       "      <td>12.15</td>\n",
       "      <td>2020-08-28</td>\n",
       "    </tr>\n",
       "  </tbody>\n",
       "</table>\n",
       "</div>"
      ],
      "text/plain": [
       "  Ticker Code  Qty Owned  Buy Price Purchase Date\n",
       "0           V      123.0      44.32    2021-11-10\n",
       "1         USB       59.0      43.11    2021-11-15\n",
       "2         USB       90.0      42.67    2021-11-16\n",
       "3         AXP      234.0      12.43    2020-07-22\n",
       "4          MA      115.0      11.01    2020-08-25\n",
       "5          MA      112.0      12.15    2020-08-28"
      ]
     },
     "execution_count": 68,
     "metadata": {},
     "output_type": "execute_result"
    }
   ],
   "source": [
    "portfolio_df"
   ]
  },
  {
   "cell_type": "code",
   "execution_count": 138,
   "metadata": {
    "tags": []
   },
   "outputs": [
    {
     "data": {
      "text/plain": [
       "array(['V', 'USB', 'AXP', 'MA'], dtype=object)"
      ]
     },
     "execution_count": 138,
     "metadata": {},
     "output_type": "execute_result"
    }
   ],
   "source": [
    "# Create a ticker list without duplicates from our portofolio\n",
    "ticker_list = portfolio_df[\"Ticker Code\"].unique()\n",
    "ticker_list"
   ]
  },
  {
   "cell_type": "code",
   "execution_count": 153,
   "metadata": {
    "tags": []
   },
   "outputs": [
    {
     "data": {
      "text/html": [
       "<div>\n",
       "<style scoped>\n",
       "    .dataframe tbody tr th:only-of-type {\n",
       "        vertical-align: middle;\n",
       "    }\n",
       "\n",
       "    .dataframe tbody tr th {\n",
       "        vertical-align: top;\n",
       "    }\n",
       "\n",
       "    .dataframe thead th {\n",
       "        text-align: right;\n",
       "    }\n",
       "</style>\n",
       "<table border=\"1\" class=\"dataframe\">\n",
       "  <thead>\n",
       "    <tr style=\"text-align: right;\">\n",
       "      <th></th>\n",
       "      <th>Qty Owned</th>\n",
       "    </tr>\n",
       "    <tr>\n",
       "      <th>Ticker Code</th>\n",
       "      <th></th>\n",
       "    </tr>\n",
       "  </thead>\n",
       "  <tbody>\n",
       "    <tr>\n",
       "      <th>AXP</th>\n",
       "      <td>234.0</td>\n",
       "    </tr>\n",
       "    <tr>\n",
       "      <th>MA</th>\n",
       "      <td>227.0</td>\n",
       "    </tr>\n",
       "    <tr>\n",
       "      <th>USB</th>\n",
       "      <td>149.0</td>\n",
       "    </tr>\n",
       "    <tr>\n",
       "      <th>V</th>\n",
       "      <td>123.0</td>\n",
       "    </tr>\n",
       "  </tbody>\n",
       "</table>\n",
       "</div>"
      ],
      "text/plain": [
       "             Qty Owned\n",
       "Ticker Code           \n",
       "AXP              234.0\n",
       "MA               227.0\n",
       "USB              149.0\n",
       "V                123.0"
      ]
     },
     "execution_count": 153,
     "metadata": {},
     "output_type": "execute_result"
    }
   ],
   "source": [
    "# Group and add up the total of each stock of the same code\n",
    "aggregated_qty = portfolio_df[[\"Ticker Code\",\"Qty Owned\"]].groupby(\"Ticker Code\").sum()\n",
    "aggregated_qty"
   ]
  },
  {
   "cell_type": "code",
   "execution_count": 154,
   "metadata": {
    "tags": []
   },
   "outputs": [
    {
     "data": {
      "text/html": [
       "<div>\n",
       "<style scoped>\n",
       "    .dataframe tbody tr th:only-of-type {\n",
       "        vertical-align: middle;\n",
       "    }\n",
       "\n",
       "    .dataframe tbody tr th {\n",
       "        vertical-align: top;\n",
       "    }\n",
       "\n",
       "    .dataframe thead th {\n",
       "        text-align: right;\n",
       "    }\n",
       "</style>\n",
       "<table border=\"1\" class=\"dataframe\">\n",
       "  <thead>\n",
       "    <tr style=\"text-align: right;\">\n",
       "      <th></th>\n",
       "      <th>Avg Buy Price</th>\n",
       "    </tr>\n",
       "    <tr>\n",
       "      <th>Ticker Code</th>\n",
       "      <th></th>\n",
       "    </tr>\n",
       "  </thead>\n",
       "  <tbody>\n",
       "    <tr>\n",
       "      <th>AXP</th>\n",
       "      <td>12.43</td>\n",
       "    </tr>\n",
       "    <tr>\n",
       "      <th>MA</th>\n",
       "      <td>11.58</td>\n",
       "    </tr>\n",
       "    <tr>\n",
       "      <th>USB</th>\n",
       "      <td>42.89</td>\n",
       "    </tr>\n",
       "    <tr>\n",
       "      <th>V</th>\n",
       "      <td>44.32</td>\n",
       "    </tr>\n",
       "  </tbody>\n",
       "</table>\n",
       "</div>"
      ],
      "text/plain": [
       "             Avg Buy Price\n",
       "Ticker Code               \n",
       "AXP                  12.43\n",
       "MA                   11.58\n",
       "USB                  42.89\n",
       "V                    44.32"
      ]
     },
     "execution_count": 154,
     "metadata": {},
     "output_type": "execute_result"
    }
   ],
   "source": [
    "# Workout the average buy price of each stock\n",
    "average_buy_price = portfolio_df[[\"Ticker Code\",\"Buy Price\"]].groupby(\"Ticker Code\").mean()\n",
    "average_buy_price.rename(columns={\"Buy Price\": \"Avg Buy Price\"}, inplace=True) \n",
    "average_buy_price"
   ]
  },
  {
   "cell_type": "code",
   "execution_count": 155,
   "metadata": {
    "tags": []
   },
   "outputs": [
    {
     "data": {
      "text/html": [
       "<div>\n",
       "<style scoped>\n",
       "    .dataframe tbody tr th:only-of-type {\n",
       "        vertical-align: middle;\n",
       "    }\n",
       "\n",
       "    .dataframe tbody tr th {\n",
       "        vertical-align: top;\n",
       "    }\n",
       "\n",
       "    .dataframe thead th {\n",
       "        text-align: right;\n",
       "    }\n",
       "</style>\n",
       "<table border=\"1\" class=\"dataframe\">\n",
       "  <thead>\n",
       "    <tr style=\"text-align: right;\">\n",
       "      <th></th>\n",
       "      <th>Qty Owned</th>\n",
       "      <th>Avg Buy Price</th>\n",
       "    </tr>\n",
       "    <tr>\n",
       "      <th>Ticker Code</th>\n",
       "      <th></th>\n",
       "      <th></th>\n",
       "    </tr>\n",
       "  </thead>\n",
       "  <tbody>\n",
       "    <tr>\n",
       "      <th>AXP</th>\n",
       "      <td>234.0</td>\n",
       "      <td>12.43</td>\n",
       "    </tr>\n",
       "    <tr>\n",
       "      <th>MA</th>\n",
       "      <td>227.0</td>\n",
       "      <td>11.58</td>\n",
       "    </tr>\n",
       "    <tr>\n",
       "      <th>USB</th>\n",
       "      <td>149.0</td>\n",
       "      <td>42.89</td>\n",
       "    </tr>\n",
       "    <tr>\n",
       "      <th>V</th>\n",
       "      <td>123.0</td>\n",
       "      <td>44.32</td>\n",
       "    </tr>\n",
       "  </tbody>\n",
       "</table>\n",
       "</div>"
      ],
      "text/plain": [
       "             Qty Owned  Avg Buy Price\n",
       "Ticker Code                          \n",
       "AXP              234.0          12.43\n",
       "MA               227.0          11.58\n",
       "USB              149.0          42.89\n",
       "V                123.0          44.32"
      ]
     },
     "execution_count": 155,
     "metadata": {},
     "output_type": "execute_result"
    }
   ],
   "source": [
    "# Create a consolidated dataframe of the total of each stock owned and the average buy price\n",
    "consolidated_df = pd.concat([aggregated_qty, average_buy_price], axis=1)\n",
    "consolidated_df"
   ]
  },
  {
   "cell_type": "code",
   "execution_count": null,
   "metadata": {},
   "outputs": [],
   "source": [
    "# determine current value"
   ]
  },
  {
   "cell_type": "code",
   "execution_count": null,
   "metadata": {},
   "outputs": [],
   "source": []
  },
  {
   "cell_type": "code",
   "execution_count": null,
   "metadata": {},
   "outputs": [],
   "source": []
  },
  {
   "cell_type": "code",
   "execution_count": null,
   "metadata": {},
   "outputs": [],
   "source": []
  },
  {
   "cell_type": "code",
   "execution_count": null,
   "metadata": {},
   "outputs": [],
   "source": [
    "# Initialise variables needed for... Kay "
   ]
  },
  {
   "cell_type": "code",
   "execution_count": null,
   "metadata": {},
   "outputs": [],
   "source": [
    "# Initialise variables needed for... Naz\n",
    "df_portfolio = portfolio\n",
    "period_for_simulation = time_frame\n",
    "# weights = ??\n"
   ]
  },
  {
   "cell_type": "markdown",
   "metadata": {},
   "source": [
    "# Function Definitions"
   ]
  },
  {
   "cell_type": "markdown",
   "metadata": {},
   "source": [
    "## get_latest_price"
   ]
  },
  {
   "cell_type": "code",
   "execution_count": 192,
   "metadata": {},
   "outputs": [],
   "source": [
    "# Function: get_latest_price ( ticker_list )\n",
    "# Purpose: Fetches the latest (one single day's worth) of trading data for the specified stock(s).\n",
    "# Inputs:\n",
    "#    ticker_list: list of ticker symbols e.g. [\"ABC\", \"DEF\", \"GHI\"]\n",
    "# Outputs:\n",
    "#   returns a data frame as per alpaca_api.get_bars format\n",
    "\n",
    "def get_latest_price ( tickers ):\n",
    "\n",
    "    # Set timeframe to \"1Day\" for Alpaca API\n",
    "    timeframe = \"1Day\"\n",
    "\n",
    "    # Loop until we find valid trading data or abort after max_attempts attempts\n",
    "    # Initialise variables\n",
    "    attempt = 0                       # Initialise the attempt count\n",
    "    max_attempts = 10                 # Initialise the maximum number of attempts after which we give up\n",
    "    df_portfolio = pd.DataFrame()     # Intialise the dataframe\n",
    "\n",
    "    while (attempt < max_attempts) and (len(df_portfolio) == 0):    # Loop until we find an active trading day or abort after the max attempts\n",
    "        if attempt == 0:\n",
    "            date_to_fetch = pd.Timestamp.now( tz=\"America/New_York\").normalize()            # Get today's date on the first iteration of the loop\n",
    "        else:\n",
    "            date_to_fetch = date_to_fetch + timedelta(days=-1)                              # Decrement the date\n",
    "\n",
    "        date_to_fetch_iso = date_to_fetch.isoformat()                                       # Convert the date to iso format needed by alpaca_api\n",
    "        attempt += 1                                                                        # Increment the attempt counter\n",
    "\n",
    "        # Get current closing prices for SPY and AGG and transform the function's response to a Pandas DataFrame\n",
    "        df_portfolio = alpaca_api.get_bars( tickers, timeframe, start = date_to_fetch_iso, end = date_to_fetch_iso ).df    # Get the ticker data from alpaca_api\n",
    "\n",
    "        if len(df_portfolio) == 0:                                                          # If no data returned...\n",
    "            print(f\"Warning: No price information available for {date_to_fetch_iso}\")                #   show a warning message with the date\n",
    "\n",
    "    if len(df_portfolio) == 0:                                                              # Once we exit the loop check if we managed to get ticker data, if not\n",
    "        print(\"Error: Could not find data after {max_attempts} attempts\" )                         #   show a warning message with the number of max attempts tried\n",
    "#    else:\n",
    "#        display(df_portfolio.head())    # Display sample data                                 # DEBUG show the sample data    \n",
    "    return df_portfolio"
   ]
  },
  {
   "cell_type": "markdown",
   "metadata": {},
   "source": [
    "## get_stock_history"
   ]
  },
  {
   "cell_type": "code",
   "execution_count": 197,
   "metadata": {},
   "outputs": [],
   "source": [
    "# Function: get_stock_history ( ticker_list, start_date, end_date )\n",
    "# Purpose: Fetches the historical trading data for the specified stock(s).\n",
    "# Inputs:\n",
    "#   ticker_list: list of ticker symbols e.g. [\"ABC\", \"DEF\", \"GHI\"]\n",
    "#   start_date: oldest date in the data range to fetch\n",
    "#   end_date:   most recent date in the data range to fetch\n",
    "# Outputs:\n",
    "#   returns a data frame of historical trading data as per alpaca_api.get_bars format\n",
    "\n",
    "def get_stock_history ( ticker_list, start_date, end_date ):\n",
    "    timeframe = \"1Day\"\n",
    "    return alpaca_api.get_bars( ticker_list, timeframe, start = start_date, end = end_date ).df"
   ]
  },
  {
   "cell_type": "markdown",
   "metadata": {},
   "source": [
    "## Function 3"
   ]
  },
  {
   "cell_type": "code",
   "execution_count": null,
   "metadata": {},
   "outputs": [],
   "source": [
    "# Function: my_function3 (function name)\n",
    "# Purpose: adds 1 to the input parameter (What it does)\n",
    "# Inputs: p1 a number which will be incremented (Name of parameters and their purpose)\n",
    "# Outputs: the p1 parameter incredmented by 1 (What it returns, if applicable)\n",
    "\n",
    "def my_function3 ( p1 ):\n",
    "    # \n",
    "    return p1 + 1"
   ]
  },
  {
   "cell_type": "markdown",
   "metadata": {},
   "source": [
    "## Add more as required"
   ]
  },
  {
   "cell_type": "markdown",
   "metadata": {},
   "source": [
    "# Main Code Section"
   ]
  },
  {
   "cell_type": "markdown",
   "metadata": {},
   "source": [
    "# Initialise environment variables"
   ]
  },
  {
   "cell_type": "code",
   "execution_count": null,
   "metadata": {},
   "outputs": [],
   "source": [
    "# Call function\n"
   ]
  },
  {
   "cell_type": "markdown",
   "metadata": {},
   "source": [
    "## Initialise / load the Portfolio Composition"
   ]
  },
  {
   "cell_type": "code",
   "execution_count": null,
   "metadata": {},
   "outputs": [],
   "source": [
    "# Call function\n",
    "\n",
    "# output: portfolio"
   ]
  },
  {
   "cell_type": "markdown",
   "metadata": {},
   "source": [
    "## Show Current Value of the Portfolio   \n",
    "Fetch the latest stock prices for the stocks in the portfolio and present a table and a pie chart showing the portfolio composition and current value"
   ]
  },
  {
   "cell_type": "markdown",
   "metadata": {},
   "source": [
    "\n",
    "\n",
    "\n",
    "\n"
   ]
  },
  {
   "cell_type": "code",
   "execution_count": 142,
   "metadata": {
    "tags": []
   },
   "outputs": [
    {
     "data": {
      "text/plain": [
       "array(['V', 'USB', 'AXP', 'MA'], dtype=object)"
      ]
     },
     "execution_count": 142,
     "metadata": {},
     "output_type": "execute_result"
    }
   ],
   "source": [
    "# Show the list of ticker codes in the portfolio\n",
    "ticker_list"
   ]
  },
  {
   "cell_type": "code",
   "execution_count": 143,
   "metadata": {
    "tags": []
   },
   "outputs": [
    {
     "data": {
      "text/html": [
       "<div>\n",
       "<style scoped>\n",
       "    .dataframe tbody tr th:only-of-type {\n",
       "        vertical-align: middle;\n",
       "    }\n",
       "\n",
       "    .dataframe tbody tr th {\n",
       "        vertical-align: top;\n",
       "    }\n",
       "\n",
       "    .dataframe thead th {\n",
       "        text-align: right;\n",
       "    }\n",
       "</style>\n",
       "<table border=\"1\" class=\"dataframe\">\n",
       "  <thead>\n",
       "    <tr style=\"text-align: right;\">\n",
       "      <th></th>\n",
       "      <th>close</th>\n",
       "      <th>high</th>\n",
       "      <th>low</th>\n",
       "      <th>trade_count</th>\n",
       "      <th>open</th>\n",
       "      <th>volume</th>\n",
       "      <th>vwap</th>\n",
       "    </tr>\n",
       "    <tr>\n",
       "      <th>symbol</th>\n",
       "      <th></th>\n",
       "      <th></th>\n",
       "      <th></th>\n",
       "      <th></th>\n",
       "      <th></th>\n",
       "      <th></th>\n",
       "      <th></th>\n",
       "    </tr>\n",
       "  </thead>\n",
       "  <tbody>\n",
       "    <tr>\n",
       "      <th>AXP</th>\n",
       "      <td>152.6340</td>\n",
       "      <td>153.2575</td>\n",
       "      <td>151.205</td>\n",
       "      <td>19805</td>\n",
       "      <td>152.37</td>\n",
       "      <td>1035012</td>\n",
       "      <td>152.628057</td>\n",
       "    </tr>\n",
       "    <tr>\n",
       "      <th>MA</th>\n",
       "      <td>400.5169</td>\n",
       "      <td>404.4300</td>\n",
       "      <td>398.780</td>\n",
       "      <td>23212</td>\n",
       "      <td>400.24</td>\n",
       "      <td>717641</td>\n",
       "      <td>402.202520</td>\n",
       "    </tr>\n",
       "    <tr>\n",
       "      <th>USB</th>\n",
       "      <td>32.4550</td>\n",
       "      <td>32.7700</td>\n",
       "      <td>31.950</td>\n",
       "      <td>47546</td>\n",
       "      <td>32.58</td>\n",
       "      <td>5444186</td>\n",
       "      <td>32.504792</td>\n",
       "    </tr>\n",
       "    <tr>\n",
       "      <th>V</th>\n",
       "      <td>238.7400</td>\n",
       "      <td>240.7100</td>\n",
       "      <td>238.330</td>\n",
       "      <td>47130</td>\n",
       "      <td>239.00</td>\n",
       "      <td>2400872</td>\n",
       "      <td>239.616144</td>\n",
       "    </tr>\n",
       "  </tbody>\n",
       "</table>\n",
       "</div>"
      ],
      "text/plain": [
       "           close      high      low  trade_count    open   volume        vwap\n",
       "symbol                                                                       \n",
       "AXP     152.6340  153.2575  151.205        19805  152.37  1035012  152.628057\n",
       "MA      400.5169  404.4300  398.780        23212  400.24   717641  402.202520\n",
       "USB      32.4550   32.7700   31.950        47546   32.58  5444186   32.504792\n",
       "V       238.7400  240.7100  238.330        47130  239.00  2400872  239.616144"
      ]
     },
     "execution_count": 143,
     "metadata": {},
     "output_type": "execute_result"
    }
   ],
   "source": [
    "# Get current prices of each stock in the portfolio\n",
    "current_prices = get_latest_price ( ticker_list ).set_index(\"symbol\")\n",
    "\n",
    "current_prices.head(10)"
   ]
  },
  {
   "cell_type": "code",
   "execution_count": 156,
   "metadata": {
    "tags": []
   },
   "outputs": [
    {
     "data": {
      "text/html": [
       "<div>\n",
       "<style scoped>\n",
       "    .dataframe tbody tr th:only-of-type {\n",
       "        vertical-align: middle;\n",
       "    }\n",
       "\n",
       "    .dataframe tbody tr th {\n",
       "        vertical-align: top;\n",
       "    }\n",
       "\n",
       "    .dataframe thead th {\n",
       "        text-align: right;\n",
       "    }\n",
       "</style>\n",
       "<table border=\"1\" class=\"dataframe\">\n",
       "  <thead>\n",
       "    <tr style=\"text-align: right;\">\n",
       "      <th></th>\n",
       "      <th>Qty Owned</th>\n",
       "      <th>Avg Buy Price</th>\n",
       "    </tr>\n",
       "    <tr>\n",
       "      <th>Ticker Code</th>\n",
       "      <th></th>\n",
       "      <th></th>\n",
       "    </tr>\n",
       "  </thead>\n",
       "  <tbody>\n",
       "    <tr>\n",
       "      <th>AXP</th>\n",
       "      <td>234.0</td>\n",
       "      <td>12.43</td>\n",
       "    </tr>\n",
       "    <tr>\n",
       "      <th>MA</th>\n",
       "      <td>227.0</td>\n",
       "      <td>11.58</td>\n",
       "    </tr>\n",
       "    <tr>\n",
       "      <th>USB</th>\n",
       "      <td>149.0</td>\n",
       "      <td>42.89</td>\n",
       "    </tr>\n",
       "    <tr>\n",
       "      <th>V</th>\n",
       "      <td>123.0</td>\n",
       "      <td>44.32</td>\n",
       "    </tr>\n",
       "  </tbody>\n",
       "</table>\n",
       "</div>"
      ],
      "text/plain": [
       "             Qty Owned  Avg Buy Price\n",
       "Ticker Code                          \n",
       "AXP              234.0          12.43\n",
       "MA               227.0          11.58\n",
       "USB              149.0          42.89\n",
       "V                123.0          44.32"
      ]
     },
     "execution_count": 156,
     "metadata": {},
     "output_type": "execute_result"
    }
   ],
   "source": [
    "consolidated_df"
   ]
  },
  {
   "cell_type": "code",
   "execution_count": 176,
   "metadata": {
    "tags": []
   },
   "outputs": [
    {
     "data": {
      "text/html": [
       "<div>\n",
       "<style scoped>\n",
       "    .dataframe tbody tr th:only-of-type {\n",
       "        vertical-align: middle;\n",
       "    }\n",
       "\n",
       "    .dataframe tbody tr th {\n",
       "        vertical-align: top;\n",
       "    }\n",
       "\n",
       "    .dataframe thead th {\n",
       "        text-align: right;\n",
       "    }\n",
       "</style>\n",
       "<table border=\"1\" class=\"dataframe\">\n",
       "  <thead>\n",
       "    <tr style=\"text-align: right;\">\n",
       "      <th></th>\n",
       "      <th>Qty Owned</th>\n",
       "      <th>Avg Buy Price</th>\n",
       "      <th>Current Value</th>\n",
       "      <th>Purchase Value</th>\n",
       "      <th>Profit</th>\n",
       "    </tr>\n",
       "    <tr>\n",
       "      <th>symbol</th>\n",
       "      <th></th>\n",
       "      <th></th>\n",
       "      <th></th>\n",
       "      <th></th>\n",
       "      <th></th>\n",
       "    </tr>\n",
       "  </thead>\n",
       "  <tbody>\n",
       "    <tr>\n",
       "      <th>AXP</th>\n",
       "      <td>234.0</td>\n",
       "      <td>12.43</td>\n",
       "      <td>35716.3560</td>\n",
       "      <td>2908.62</td>\n",
       "      <td>32807.7360</td>\n",
       "    </tr>\n",
       "    <tr>\n",
       "      <th>MA</th>\n",
       "      <td>227.0</td>\n",
       "      <td>11.58</td>\n",
       "      <td>90917.3363</td>\n",
       "      <td>2628.66</td>\n",
       "      <td>88288.6763</td>\n",
       "    </tr>\n",
       "    <tr>\n",
       "      <th>USB</th>\n",
       "      <td>149.0</td>\n",
       "      <td>42.89</td>\n",
       "      <td>4835.7950</td>\n",
       "      <td>6390.61</td>\n",
       "      <td>-1554.8150</td>\n",
       "    </tr>\n",
       "    <tr>\n",
       "      <th>V</th>\n",
       "      <td>123.0</td>\n",
       "      <td>44.32</td>\n",
       "      <td>29365.0200</td>\n",
       "      <td>5451.36</td>\n",
       "      <td>23913.6600</td>\n",
       "    </tr>\n",
       "  </tbody>\n",
       "</table>\n",
       "</div>"
      ],
      "text/plain": [
       "        Qty Owned  Avg Buy Price  Current Value  Purchase Value      Profit\n",
       "symbol                                                                     \n",
       "AXP         234.0          12.43     35716.3560         2908.62  32807.7360\n",
       "MA          227.0          11.58     90917.3363         2628.66  88288.6763\n",
       "USB         149.0          42.89      4835.7950         6390.61  -1554.8150\n",
       "V           123.0          44.32     29365.0200         5451.36  23913.6600"
      ]
     },
     "execution_count": 176,
     "metadata": {},
     "output_type": "execute_result"
    }
   ],
   "source": [
    "# Calculate current value, original purchase cost, and profit in new datafrome\n",
    "portfolio_current_stats = consolidated_df.copy() # Create a copy of the dataframe as we are adding columns that may not be useful in other scenarions\n",
    "portfolio_current_stats.index.names = ['symbol'] # Rename the index to match the Alpaca price list dataframe \n",
    "\n",
    "# Add new columns and initialise\n",
    "portfolio_current_stats['Current Value'] = 0.0   # Add current value column and initialise values to 0\n",
    "portfolio_current_stats['Purchase Value'] = 0.0  # Add purchase value column and initialise values to 0\n",
    "portfolio_current_stats['Profit'] = 0.0          # Add profit column and initialise values to 0\n",
    "\n",
    "# Perform calculations\n",
    "portfolio_current_stats['Current Value'] = current_prices['close'] * portfolio_current_stats['Qty Owned']                        # Calculate the Current value by multiplying the close price by the quantity of each share owned \n",
    "portfolio_current_stats['Purchase Value'] = portfolio_current_stats['Avg Buy Price'] * portfolio_current_stats['Qty Owned']      # Calculate the Purchase value by multiplying the original (average) buy price by the quantity of each share owned\n",
    "portfolio_current_stats['Profit'] = portfolio_current_stats['Current Value'] - portfolio_current_stats['Purchase Value']         # Calculate the Profit subtracting the current value from the original cost\n",
    "portfolio_current_stats"
   ]
  },
  {
   "cell_type": "code",
   "execution_count": 177,
   "metadata": {
    "tags": []
   },
   "outputs": [
    {
     "name": "stdout",
     "output_type": "stream",
     "text": [
      "Info: Portfolio's current total value is       $160,834.51\n",
      "Info: Portfolio's current total profit/loss is $143,455.26\n"
     ]
    }
   ],
   "source": [
    "# Determine the current total value and total profit / loss\n",
    "\n",
    "total_portfolio_value = portfolio_current_stats[\"Current Value\"].sum()\n",
    "total_portfolio_profit = portfolio_current_stats[\"Profit\"].sum()\n",
    "print(f\"Info: Portfolio's current total value is       ${total_portfolio_value:0,.2f}\")\n",
    "print(f\"Info: Portfolio's current total profit/loss is ${total_portfolio_profit:0,.2f}\")"
   ]
  },
  {
   "cell_type": "code",
   "execution_count": null,
   "metadata": {},
   "outputs": [],
   "source": []
  },
  {
   "cell_type": "code",
   "execution_count": null,
   "metadata": {},
   "outputs": [],
   "source": [
    "df_savings = pd.DataFrame([total_crypto_value, total_shares_value], index=[\"crypto\", \"shares\"], columns=[\"amount\"])"
   ]
  },
  {
   "cell_type": "code",
   "execution_count": 190,
   "metadata": {
    "tags": []
   },
   "outputs": [
    {
     "data": {
      "image/png": "[encoded data removed]",
      "text/plain": [
       "<Figure size 640x480 with 1 Axes>"
      ]
     },
     "metadata": {},
     "output_type": "display_data"
    }
   ],
   "source": [
    "# Plot porfolio value into a pie chart\n",
    "fig1_portfolio_value_pie_chart  = portfolio_current_stats.plot.pie( y=\"Current Value\", autopct = \"%1.1f%%\" , title = \"Portfolio value\" )"
   ]
  },
  {
   "cell_type": "markdown",
   "metadata": {},
   "source": [
    "# User Setting - Desired Portfolio Weighting\n",
    "Set the Desired Weighting as required.   \n",
    "Note the order in the list below corresponds to the `symbol` order above "
   ]
  },
  {
   "cell_type": "code",
   "execution_count": 167,
   "metadata": {
    "tags": []
   },
   "outputs": [
    {
     "data": {
      "text/plain": [
       "[0.25, 0.25, 0.25, 0.25]"
      ]
     },
     "execution_count": 167,
     "metadata": {},
     "output_type": "execute_result"
    }
   ],
   "source": [
    "# Set the required portolio weighting\n",
    "desired_weighting = [1/4, 1/4, 1/4, 1/4]\n",
    "desired_weighting"
   ]
  },
  {
   "cell_type": "code",
   "execution_count": 158,
   "metadata": {
    "tags": []
   },
   "outputs": [
    {
     "data": {
      "text/html": [
       "<div>\n",
       "<style scoped>\n",
       "    .dataframe tbody tr th:only-of-type {\n",
       "        vertical-align: middle;\n",
       "    }\n",
       "\n",
       "    .dataframe tbody tr th {\n",
       "        vertical-align: top;\n",
       "    }\n",
       "\n",
       "    .dataframe thead th {\n",
       "        text-align: right;\n",
       "    }\n",
       "</style>\n",
       "<table border=\"1\" class=\"dataframe\">\n",
       "  <thead>\n",
       "    <tr style=\"text-align: right;\">\n",
       "      <th></th>\n",
       "      <th>Qty Owned</th>\n",
       "      <th>Avg Buy Price</th>\n",
       "    </tr>\n",
       "    <tr>\n",
       "      <th>Ticker Code</th>\n",
       "      <th></th>\n",
       "      <th></th>\n",
       "    </tr>\n",
       "  </thead>\n",
       "  <tbody>\n",
       "    <tr>\n",
       "      <th>AXP</th>\n",
       "      <td>234.0</td>\n",
       "      <td>12.43</td>\n",
       "    </tr>\n",
       "    <tr>\n",
       "      <th>MA</th>\n",
       "      <td>227.0</td>\n",
       "      <td>11.58</td>\n",
       "    </tr>\n",
       "    <tr>\n",
       "      <th>USB</th>\n",
       "      <td>149.0</td>\n",
       "      <td>42.89</td>\n",
       "    </tr>\n",
       "    <tr>\n",
       "      <th>V</th>\n",
       "      <td>123.0</td>\n",
       "      <td>44.32</td>\n",
       "    </tr>\n",
       "  </tbody>\n",
       "</table>\n",
       "</div>"
      ],
      "text/plain": [
       "             Qty Owned  Avg Buy Price\n",
       "Ticker Code                          \n",
       "AXP              234.0          12.43\n",
       "MA               227.0          11.58\n",
       "USB              149.0          42.89\n",
       "V                123.0          44.32"
      ]
     },
     "execution_count": 158,
     "metadata": {},
     "output_type": "execute_result"
    }
   ],
   "source": [
    "consolidated_df"
   ]
  },
  {
   "cell_type": "markdown",
   "metadata": {},
   "source": [
    "# Determine current portfolio weighting"
   ]
  },
  {
   "cell_type": "code",
   "execution_count": 188,
   "metadata": {},
   "outputs": [
    {
     "data": {
      "text/plain": [
       "symbol\n",
       "AXP    0.222069\n",
       "MA     0.565285\n",
       "USB    0.030067\n",
       "V      0.182579\n",
       "Name: Weighting, dtype: float64"
      ]
     },
     "execution_count": 188,
     "metadata": {},
     "output_type": "execute_result"
    }
   ],
   "source": [
    "# Determine portfolio weighting in each stock/ticker. (calcualte from first step) Kay\n",
    "# Determine the current weighting of each stock\n",
    "portfolio_current_stats['Weighting'] = 0.0   # Add a new column for weighting\n",
    "\n",
    "portfolio_current_stats['Weighting'] = portfolio_current_stats['Current Value'] / total_portfolio_value         # Calculate thestock weighting as a percentage of the total porfolio value\n",
    "portfolio_current_stats['Weighting'] # Show the results"
   ]
  },
  {
   "cell_type": "markdown",
   "metadata": {},
   "source": [
    "# Allow User to Select an Investment Timeframe   \n",
    "This will be used to determine period of data to fetch, allow investor to choose comparable timeframe. ( dic or array or menu as fixed option, nice to have will be GUI slider or Menu) Kay"
   ]
  },
  {
   "cell_type": "code",
   "execution_count": null,
   "metadata": {},
   "outputs": [],
   "source": [
    "# Call functions\n",
    "\n",
    "# Output: time_frame     # time frame to fetch"
   ]
  },
  {
   "cell_type": "markdown",
   "metadata": {},
   "source": [
    "# API fetches Ticker data based on timeframe. Bruno\n",
    "Input: portfolio, time_frame\n",
    "Output: \n"
   ]
  },
  {
   "cell_type": "code",
   "execution_count": 202,
   "metadata": {
    "tags": []
   },
   "outputs": [
    {
     "data": {
      "text/html": [
       "<div>\n",
       "<style scoped>\n",
       "    .dataframe tbody tr th:only-of-type {\n",
       "        vertical-align: middle;\n",
       "    }\n",
       "\n",
       "    .dataframe tbody tr th {\n",
       "        vertical-align: top;\n",
       "    }\n",
       "\n",
       "    .dataframe thead th {\n",
       "        text-align: right;\n",
       "    }\n",
       "</style>\n",
       "<table border=\"1\" class=\"dataframe\">\n",
       "  <thead>\n",
       "    <tr style=\"text-align: right;\">\n",
       "      <th></th>\n",
       "      <th>close</th>\n",
       "      <th>high</th>\n",
       "      <th>low</th>\n",
       "      <th>trade_count</th>\n",
       "      <th>open</th>\n",
       "      <th>volume</th>\n",
       "      <th>vwap</th>\n",
       "    </tr>\n",
       "    <tr>\n",
       "      <th>timestamp</th>\n",
       "      <th></th>\n",
       "      <th></th>\n",
       "      <th></th>\n",
       "      <th></th>\n",
       "      <th></th>\n",
       "      <th></th>\n",
       "      <th></th>\n",
       "    </tr>\n",
       "  </thead>\n",
       "  <tbody>\n",
       "    <tr>\n",
       "      <th>2016-05-02 04:00:00+00:00</th>\n",
       "      <td>78.46</td>\n",
       "      <td>78.47</td>\n",
       "      <td>77.16</td>\n",
       "      <td>56825</td>\n",
       "      <td>77.81</td>\n",
       "      <td>8222959</td>\n",
       "      <td>77.980670</td>\n",
       "    </tr>\n",
       "    <tr>\n",
       "      <th>2016-05-03 04:00:00+00:00</th>\n",
       "      <td>77.19</td>\n",
       "      <td>78.36</td>\n",
       "      <td>76.93</td>\n",
       "      <td>56559</td>\n",
       "      <td>77.43</td>\n",
       "      <td>8414532</td>\n",
       "      <td>77.316374</td>\n",
       "    </tr>\n",
       "    <tr>\n",
       "      <th>2016-05-04 04:00:00+00:00</th>\n",
       "      <td>77.07</td>\n",
       "      <td>77.38</td>\n",
       "      <td>76.35</td>\n",
       "      <td>55830</td>\n",
       "      <td>76.56</td>\n",
       "      <td>9660908</td>\n",
       "      <td>76.851690</td>\n",
       "    </tr>\n",
       "    <tr>\n",
       "      <th>2016-05-05 04:00:00+00:00</th>\n",
       "      <td>77.36</td>\n",
       "      <td>77.70</td>\n",
       "      <td>77.01</td>\n",
       "      <td>41981</td>\n",
       "      <td>77.15</td>\n",
       "      <td>6367069</td>\n",
       "      <td>77.312123</td>\n",
       "    </tr>\n",
       "    <tr>\n",
       "      <th>2016-05-06 04:00:00+00:00</th>\n",
       "      <td>77.72</td>\n",
       "      <td>77.80</td>\n",
       "      <td>76.78</td>\n",
       "      <td>44685</td>\n",
       "      <td>77.23</td>\n",
       "      <td>6536396</td>\n",
       "      <td>77.364514</td>\n",
       "    </tr>\n",
       "  </tbody>\n",
       "</table>\n",
       "</div>"
      ],
      "text/plain": [
       "                           close   high    low  trade_count   open   volume  \\\n",
       "timestamp                                                                     \n",
       "2016-05-02 04:00:00+00:00  78.46  78.47  77.16        56825  77.81  8222959   \n",
       "2016-05-03 04:00:00+00:00  77.19  78.36  76.93        56559  77.43  8414532   \n",
       "2016-05-04 04:00:00+00:00  77.07  77.38  76.35        55830  76.56  9660908   \n",
       "2016-05-05 04:00:00+00:00  77.36  77.70  77.01        41981  77.15  6367069   \n",
       "2016-05-06 04:00:00+00:00  77.72  77.80  76.78        44685  77.23  6536396   \n",
       "\n",
       "                                vwap  \n",
       "timestamp                             \n",
       "2016-05-02 04:00:00+00:00  77.980670  \n",
       "2016-05-03 04:00:00+00:00  77.316374  \n",
       "2016-05-04 04:00:00+00:00  76.851690  \n",
       "2016-05-05 04:00:00+00:00  77.312123  \n",
       "2016-05-06 04:00:00+00:00  77.364514  "
      ]
     },
     "metadata": {},
     "output_type": "display_data"
    },
    {
     "data": {
      "text/html": [
       "<div>\n",
       "<style scoped>\n",
       "    .dataframe tbody tr th:only-of-type {\n",
       "        vertical-align: middle;\n",
       "    }\n",
       "\n",
       "    .dataframe tbody tr th {\n",
       "        vertical-align: top;\n",
       "    }\n",
       "\n",
       "    .dataframe thead th {\n",
       "        text-align: right;\n",
       "    }\n",
       "</style>\n",
       "<table border=\"1\" class=\"dataframe\">\n",
       "  <thead>\n",
       "    <tr style=\"text-align: right;\">\n",
       "      <th></th>\n",
       "      <th>close</th>\n",
       "      <th>high</th>\n",
       "      <th>low</th>\n",
       "      <th>trade_count</th>\n",
       "      <th>open</th>\n",
       "      <th>volume</th>\n",
       "      <th>vwap</th>\n",
       "    </tr>\n",
       "    <tr>\n",
       "      <th>timestamp</th>\n",
       "      <th></th>\n",
       "      <th></th>\n",
       "      <th></th>\n",
       "      <th></th>\n",
       "      <th></th>\n",
       "      <th></th>\n",
       "      <th></th>\n",
       "    </tr>\n",
       "  </thead>\n",
       "  <tbody>\n",
       "    <tr>\n",
       "      <th>2016-05-02 04:00:00+00:00</th>\n",
       "      <td>42.97</td>\n",
       "      <td>43.160</td>\n",
       "      <td>42.62</td>\n",
       "      <td>45220</td>\n",
       "      <td>43.02</td>\n",
       "      <td>9217760</td>\n",
       "      <td>42.976107</td>\n",
       "    </tr>\n",
       "    <tr>\n",
       "      <th>2016-05-03 04:00:00+00:00</th>\n",
       "      <td>42.50</td>\n",
       "      <td>42.555</td>\n",
       "      <td>42.00</td>\n",
       "      <td>44343</td>\n",
       "      <td>42.33</td>\n",
       "      <td>6871777</td>\n",
       "      <td>42.362663</td>\n",
       "    </tr>\n",
       "    <tr>\n",
       "      <th>2016-05-04 04:00:00+00:00</th>\n",
       "      <td>41.72</td>\n",
       "      <td>42.280</td>\n",
       "      <td>41.39</td>\n",
       "      <td>55641</td>\n",
       "      <td>42.04</td>\n",
       "      <td>9255193</td>\n",
       "      <td>41.697421</td>\n",
       "    </tr>\n",
       "    <tr>\n",
       "      <th>2016-05-05 04:00:00+00:00</th>\n",
       "      <td>41.65</td>\n",
       "      <td>42.000</td>\n",
       "      <td>41.54</td>\n",
       "      <td>38951</td>\n",
       "      <td>41.82</td>\n",
       "      <td>6306395</td>\n",
       "      <td>41.679875</td>\n",
       "    </tr>\n",
       "    <tr>\n",
       "      <th>2016-05-06 04:00:00+00:00</th>\n",
       "      <td>41.78</td>\n",
       "      <td>41.810</td>\n",
       "      <td>41.36</td>\n",
       "      <td>32393</td>\n",
       "      <td>41.41</td>\n",
       "      <td>5619466</td>\n",
       "      <td>41.651912</td>\n",
       "    </tr>\n",
       "  </tbody>\n",
       "</table>\n",
       "</div>"
      ],
      "text/plain": [
       "                           close    high    low  trade_count   open   volume  \\\n",
       "timestamp                                                                      \n",
       "2016-05-02 04:00:00+00:00  42.97  43.160  42.62        45220  43.02  9217760   \n",
       "2016-05-03 04:00:00+00:00  42.50  42.555  42.00        44343  42.33  6871777   \n",
       "2016-05-04 04:00:00+00:00  41.72  42.280  41.39        55641  42.04  9255193   \n",
       "2016-05-05 04:00:00+00:00  41.65  42.000  41.54        38951  41.82  6306395   \n",
       "2016-05-06 04:00:00+00:00  41.78  41.810  41.36        32393  41.41  5619466   \n",
       "\n",
       "                                vwap  \n",
       "timestamp                             \n",
       "2016-05-02 04:00:00+00:00  42.976107  \n",
       "2016-05-03 04:00:00+00:00  42.362663  \n",
       "2016-05-04 04:00:00+00:00  41.697421  \n",
       "2016-05-05 04:00:00+00:00  41.679875  \n",
       "2016-05-06 04:00:00+00:00  41.651912  "
      ]
     },
     "metadata": {},
     "output_type": "display_data"
    },
    {
     "data": {
      "text/html": [
       "<div>\n",
       "<style scoped>\n",
       "    .dataframe tbody tr th:only-of-type {\n",
       "        vertical-align: middle;\n",
       "    }\n",
       "\n",
       "    .dataframe tbody tr th {\n",
       "        vertical-align: top;\n",
       "    }\n",
       "\n",
       "    .dataframe thead th {\n",
       "        text-align: right;\n",
       "    }\n",
       "</style>\n",
       "<table border=\"1\" class=\"dataframe\">\n",
       "  <thead>\n",
       "    <tr style=\"text-align: right;\">\n",
       "      <th></th>\n",
       "      <th>close</th>\n",
       "      <th>high</th>\n",
       "      <th>low</th>\n",
       "      <th>trade_count</th>\n",
       "      <th>open</th>\n",
       "      <th>volume</th>\n",
       "      <th>vwap</th>\n",
       "    </tr>\n",
       "    <tr>\n",
       "      <th>timestamp</th>\n",
       "      <th></th>\n",
       "      <th></th>\n",
       "      <th></th>\n",
       "      <th></th>\n",
       "      <th></th>\n",
       "      <th></th>\n",
       "      <th></th>\n",
       "    </tr>\n",
       "  </thead>\n",
       "  <tbody>\n",
       "    <tr>\n",
       "      <th>2016-05-02 04:00:00+00:00</th>\n",
       "      <td>65.68</td>\n",
       "      <td>66.05</td>\n",
       "      <td>65.175</td>\n",
       "      <td>27086</td>\n",
       "      <td>65.58</td>\n",
       "      <td>4490540</td>\n",
       "      <td>65.730669</td>\n",
       "    </tr>\n",
       "    <tr>\n",
       "      <th>2016-05-03 04:00:00+00:00</th>\n",
       "      <td>64.85</td>\n",
       "      <td>65.05</td>\n",
       "      <td>64.330</td>\n",
       "      <td>31455</td>\n",
       "      <td>65.03</td>\n",
       "      <td>5041712</td>\n",
       "      <td>64.736683</td>\n",
       "    </tr>\n",
       "    <tr>\n",
       "      <th>2016-05-04 04:00:00+00:00</th>\n",
       "      <td>64.26</td>\n",
       "      <td>64.75</td>\n",
       "      <td>63.830</td>\n",
       "      <td>29849</td>\n",
       "      <td>64.13</td>\n",
       "      <td>5252943</td>\n",
       "      <td>64.187752</td>\n",
       "    </tr>\n",
       "    <tr>\n",
       "      <th>2016-05-05 04:00:00+00:00</th>\n",
       "      <td>63.92</td>\n",
       "      <td>64.72</td>\n",
       "      <td>63.790</td>\n",
       "      <td>25246</td>\n",
       "      <td>64.46</td>\n",
       "      <td>4228500</td>\n",
       "      <td>64.121166</td>\n",
       "    </tr>\n",
       "    <tr>\n",
       "      <th>2016-05-06 04:00:00+00:00</th>\n",
       "      <td>64.51</td>\n",
       "      <td>64.71</td>\n",
       "      <td>63.450</td>\n",
       "      <td>22348</td>\n",
       "      <td>63.76</td>\n",
       "      <td>3873025</td>\n",
       "      <td>64.320592</td>\n",
       "    </tr>\n",
       "  </tbody>\n",
       "</table>\n",
       "</div>"
      ],
      "text/plain": [
       "                           close   high     low  trade_count   open   volume  \\\n",
       "timestamp                                                                      \n",
       "2016-05-02 04:00:00+00:00  65.68  66.05  65.175        27086  65.58  4490540   \n",
       "2016-05-03 04:00:00+00:00  64.85  65.05  64.330        31455  65.03  5041712   \n",
       "2016-05-04 04:00:00+00:00  64.26  64.75  63.830        29849  64.13  5252943   \n",
       "2016-05-05 04:00:00+00:00  63.92  64.72  63.790        25246  64.46  4228500   \n",
       "2016-05-06 04:00:00+00:00  64.51  64.71  63.450        22348  63.76  3873025   \n",
       "\n",
       "                                vwap  \n",
       "timestamp                             \n",
       "2016-05-02 04:00:00+00:00  65.730669  \n",
       "2016-05-03 04:00:00+00:00  64.736683  \n",
       "2016-05-04 04:00:00+00:00  64.187752  \n",
       "2016-05-05 04:00:00+00:00  64.121166  \n",
       "2016-05-06 04:00:00+00:00  64.320592  "
      ]
     },
     "metadata": {},
     "output_type": "display_data"
    },
    {
     "data": {
      "text/html": [
       "<div>\n",
       "<style scoped>\n",
       "    .dataframe tbody tr th:only-of-type {\n",
       "        vertical-align: middle;\n",
       "    }\n",
       "\n",
       "    .dataframe tbody tr th {\n",
       "        vertical-align: top;\n",
       "    }\n",
       "\n",
       "    .dataframe thead th {\n",
       "        text-align: right;\n",
       "    }\n",
       "</style>\n",
       "<table border=\"1\" class=\"dataframe\">\n",
       "  <thead>\n",
       "    <tr style=\"text-align: right;\">\n",
       "      <th></th>\n",
       "      <th>close</th>\n",
       "      <th>high</th>\n",
       "      <th>low</th>\n",
       "      <th>trade_count</th>\n",
       "      <th>open</th>\n",
       "      <th>volume</th>\n",
       "      <th>vwap</th>\n",
       "    </tr>\n",
       "    <tr>\n",
       "      <th>timestamp</th>\n",
       "      <th></th>\n",
       "      <th></th>\n",
       "      <th></th>\n",
       "      <th></th>\n",
       "      <th></th>\n",
       "      <th></th>\n",
       "      <th></th>\n",
       "    </tr>\n",
       "  </thead>\n",
       "  <tbody>\n",
       "    <tr>\n",
       "      <th>2016-05-02 04:00:00+00:00</th>\n",
       "      <td>97.77</td>\n",
       "      <td>97.94</td>\n",
       "      <td>96.49</td>\n",
       "      <td>33212</td>\n",
       "      <td>97.15</td>\n",
       "      <td>3979442</td>\n",
       "      <td>97.388261</td>\n",
       "    </tr>\n",
       "    <tr>\n",
       "      <th>2016-05-03 04:00:00+00:00</th>\n",
       "      <td>96.45</td>\n",
       "      <td>97.54</td>\n",
       "      <td>95.92</td>\n",
       "      <td>30770</td>\n",
       "      <td>97.01</td>\n",
       "      <td>3682600</td>\n",
       "      <td>96.426451</td>\n",
       "    </tr>\n",
       "    <tr>\n",
       "      <th>2016-05-04 04:00:00+00:00</th>\n",
       "      <td>96.25</td>\n",
       "      <td>96.39</td>\n",
       "      <td>95.23</td>\n",
       "      <td>27100</td>\n",
       "      <td>95.72</td>\n",
       "      <td>3413136</td>\n",
       "      <td>95.851666</td>\n",
       "    </tr>\n",
       "    <tr>\n",
       "      <th>2016-05-05 04:00:00+00:00</th>\n",
       "      <td>96.19</td>\n",
       "      <td>96.83</td>\n",
       "      <td>95.96</td>\n",
       "      <td>27166</td>\n",
       "      <td>96.34</td>\n",
       "      <td>2993477</td>\n",
       "      <td>96.285054</td>\n",
       "    </tr>\n",
       "    <tr>\n",
       "      <th>2016-05-06 04:00:00+00:00</th>\n",
       "      <td>96.68</td>\n",
       "      <td>96.76</td>\n",
       "      <td>95.65</td>\n",
       "      <td>18874</td>\n",
       "      <td>95.80</td>\n",
       "      <td>2187776</td>\n",
       "      <td>96.276710</td>\n",
       "    </tr>\n",
       "  </tbody>\n",
       "</table>\n",
       "</div>"
      ],
      "text/plain": [
       "                           close   high    low  trade_count   open   volume  \\\n",
       "timestamp                                                                     \n",
       "2016-05-02 04:00:00+00:00  97.77  97.94  96.49        33212  97.15  3979442   \n",
       "2016-05-03 04:00:00+00:00  96.45  97.54  95.92        30770  97.01  3682600   \n",
       "2016-05-04 04:00:00+00:00  96.25  96.39  95.23        27100  95.72  3413136   \n",
       "2016-05-05 04:00:00+00:00  96.19  96.83  95.96        27166  96.34  2993477   \n",
       "2016-05-06 04:00:00+00:00  96.68  96.76  95.65        18874  95.80  2187776   \n",
       "\n",
       "                                vwap  \n",
       "timestamp                             \n",
       "2016-05-02 04:00:00+00:00  97.388261  \n",
       "2016-05-03 04:00:00+00:00  96.426451  \n",
       "2016-05-04 04:00:00+00:00  95.851666  \n",
       "2016-05-05 04:00:00+00:00  96.285054  \n",
       "2016-05-06 04:00:00+00:00  96.276710  "
      ]
     },
     "metadata": {},
     "output_type": "display_data"
    }
   ],
   "source": [
    "# Get all historical trading data for all stocks\n",
    "start_date = pd.Timestamp('2016-05-01', tz='America/New_York').isoformat()\n",
    "end_date = pd.Timestamp('2021-05-01', tz='America/New_York').isoformat()\n",
    "\n",
    "for symbol in ticker_list:\n",
    "    single_stock_historical_data_df = get_stock_history( symbol, start_date, end_date )\n",
    "    display(single_stock_historical_data_df.head())"
   ]
  },
  {
   "cell_type": "code",
   "execution_count": 203,
   "metadata": {},
   "outputs": [
    {
     "data": {
      "text/html": [
       "<div>\n",
       "<style scoped>\n",
       "    .dataframe tbody tr th:only-of-type {\n",
       "        vertical-align: middle;\n",
       "    }\n",
       "\n",
       "    .dataframe tbody tr th {\n",
       "        vertical-align: top;\n",
       "    }\n",
       "\n",
       "    .dataframe thead th {\n",
       "        text-align: right;\n",
       "    }\n",
       "</style>\n",
       "<table border=\"1\" class=\"dataframe\">\n",
       "  <thead>\n",
       "    <tr style=\"text-align: right;\">\n",
       "      <th></th>\n",
       "      <th>close</th>\n",
       "      <th>high</th>\n",
       "      <th>low</th>\n",
       "      <th>trade_count</th>\n",
       "      <th>open</th>\n",
       "      <th>volume</th>\n",
       "      <th>vwap</th>\n",
       "      <th>symbol</th>\n",
       "    </tr>\n",
       "    <tr>\n",
       "      <th>timestamp</th>\n",
       "      <th></th>\n",
       "      <th></th>\n",
       "      <th></th>\n",
       "      <th></th>\n",
       "      <th></th>\n",
       "      <th></th>\n",
       "      <th></th>\n",
       "      <th></th>\n",
       "    </tr>\n",
       "  </thead>\n",
       "  <tbody>\n",
       "    <tr>\n",
       "      <th>2016-05-02 04:00:00+00:00</th>\n",
       "      <td>65.68</td>\n",
       "      <td>66.05</td>\n",
       "      <td>65.1750</td>\n",
       "      <td>27086</td>\n",
       "      <td>65.58</td>\n",
       "      <td>4490540</td>\n",
       "      <td>65.730669</td>\n",
       "      <td>AXP</td>\n",
       "    </tr>\n",
       "    <tr>\n",
       "      <th>2016-05-03 04:00:00+00:00</th>\n",
       "      <td>64.85</td>\n",
       "      <td>65.05</td>\n",
       "      <td>64.3300</td>\n",
       "      <td>31455</td>\n",
       "      <td>65.03</td>\n",
       "      <td>5041712</td>\n",
       "      <td>64.736683</td>\n",
       "      <td>AXP</td>\n",
       "    </tr>\n",
       "    <tr>\n",
       "      <th>2016-05-04 04:00:00+00:00</th>\n",
       "      <td>64.26</td>\n",
       "      <td>64.75</td>\n",
       "      <td>63.8300</td>\n",
       "      <td>29849</td>\n",
       "      <td>64.13</td>\n",
       "      <td>5252943</td>\n",
       "      <td>64.187752</td>\n",
       "      <td>AXP</td>\n",
       "    </tr>\n",
       "    <tr>\n",
       "      <th>2016-05-05 04:00:00+00:00</th>\n",
       "      <td>63.92</td>\n",
       "      <td>64.72</td>\n",
       "      <td>63.7900</td>\n",
       "      <td>25246</td>\n",
       "      <td>64.46</td>\n",
       "      <td>4228500</td>\n",
       "      <td>64.121166</td>\n",
       "      <td>AXP</td>\n",
       "    </tr>\n",
       "    <tr>\n",
       "      <th>2016-05-06 04:00:00+00:00</th>\n",
       "      <td>64.51</td>\n",
       "      <td>64.71</td>\n",
       "      <td>63.4500</td>\n",
       "      <td>22348</td>\n",
       "      <td>63.76</td>\n",
       "      <td>3873025</td>\n",
       "      <td>64.320592</td>\n",
       "      <td>AXP</td>\n",
       "    </tr>\n",
       "    <tr>\n",
       "      <th>...</th>\n",
       "      <td>...</td>\n",
       "      <td>...</td>\n",
       "      <td>...</td>\n",
       "      <td>...</td>\n",
       "      <td>...</td>\n",
       "      <td>...</td>\n",
       "      <td>...</td>\n",
       "      <td>...</td>\n",
       "    </tr>\n",
       "    <tr>\n",
       "      <th>2021-04-26 04:00:00+00:00</th>\n",
       "      <td>230.34</td>\n",
       "      <td>232.95</td>\n",
       "      <td>229.5200</td>\n",
       "      <td>75343</td>\n",
       "      <td>230.77</td>\n",
       "      <td>6629698</td>\n",
       "      <td>230.678793</td>\n",
       "      <td>V</td>\n",
       "    </tr>\n",
       "    <tr>\n",
       "      <th>2021-04-27 04:00:00+00:00</th>\n",
       "      <td>229.91</td>\n",
       "      <td>231.16</td>\n",
       "      <td>228.9850</td>\n",
       "      <td>85668</td>\n",
       "      <td>231.03</td>\n",
       "      <td>7172084</td>\n",
       "      <td>229.936531</td>\n",
       "      <td>V</td>\n",
       "    </tr>\n",
       "    <tr>\n",
       "      <th>2021-04-28 04:00:00+00:00</th>\n",
       "      <td>233.45</td>\n",
       "      <td>236.27</td>\n",
       "      <td>230.6748</td>\n",
       "      <td>113830</td>\n",
       "      <td>230.95</td>\n",
       "      <td>10775689</td>\n",
       "      <td>233.855194</td>\n",
       "      <td>V</td>\n",
       "    </tr>\n",
       "    <tr>\n",
       "      <th>2021-04-29 04:00:00+00:00</th>\n",
       "      <td>236.86</td>\n",
       "      <td>237.50</td>\n",
       "      <td>233.1500</td>\n",
       "      <td>89705</td>\n",
       "      <td>235.23</td>\n",
       "      <td>9078356</td>\n",
       "      <td>236.017924</td>\n",
       "      <td>V</td>\n",
       "    </tr>\n",
       "    <tr>\n",
       "      <th>2021-04-30 04:00:00+00:00</th>\n",
       "      <td>233.56</td>\n",
       "      <td>235.93</td>\n",
       "      <td>232.2900</td>\n",
       "      <td>86343</td>\n",
       "      <td>235.32</td>\n",
       "      <td>13344763</td>\n",
       "      <td>233.603545</td>\n",
       "      <td>V</td>\n",
       "    </tr>\n",
       "  </tbody>\n",
       "</table>\n",
       "<p>5036 rows × 8 columns</p>\n",
       "</div>"
      ],
      "text/plain": [
       "                            close    high       low  trade_count    open  \\\n",
       "timestamp                                                                  \n",
       "2016-05-02 04:00:00+00:00   65.68   66.05   65.1750        27086   65.58   \n",
       "2016-05-03 04:00:00+00:00   64.85   65.05   64.3300        31455   65.03   \n",
       "2016-05-04 04:00:00+00:00   64.26   64.75   63.8300        29849   64.13   \n",
       "2016-05-05 04:00:00+00:00   63.92   64.72   63.7900        25246   64.46   \n",
       "2016-05-06 04:00:00+00:00   64.51   64.71   63.4500        22348   63.76   \n",
       "...                           ...     ...       ...          ...     ...   \n",
       "2021-04-26 04:00:00+00:00  230.34  232.95  229.5200        75343  230.77   \n",
       "2021-04-27 04:00:00+00:00  229.91  231.16  228.9850        85668  231.03   \n",
       "2021-04-28 04:00:00+00:00  233.45  236.27  230.6748       113830  230.95   \n",
       "2021-04-29 04:00:00+00:00  236.86  237.50  233.1500        89705  235.23   \n",
       "2021-04-30 04:00:00+00:00  233.56  235.93  232.2900        86343  235.32   \n",
       "\n",
       "                             volume        vwap symbol  \n",
       "timestamp                                               \n",
       "2016-05-02 04:00:00+00:00   4490540   65.730669    AXP  \n",
       "2016-05-03 04:00:00+00:00   5041712   64.736683    AXP  \n",
       "2016-05-04 04:00:00+00:00   5252943   64.187752    AXP  \n",
       "2016-05-05 04:00:00+00:00   4228500   64.121166    AXP  \n",
       "2016-05-06 04:00:00+00:00   3873025   64.320592    AXP  \n",
       "...                             ...         ...    ...  \n",
       "2021-04-26 04:00:00+00:00   6629698  230.678793      V  \n",
       "2021-04-27 04:00:00+00:00   7172084  229.936531      V  \n",
       "2021-04-28 04:00:00+00:00  10775689  233.855194      V  \n",
       "2021-04-29 04:00:00+00:00   9078356  236.017924      V  \n",
       "2021-04-30 04:00:00+00:00  13344763  233.603545      V  \n",
       "\n",
       "[5036 rows x 8 columns]"
      ]
     },
     "execution_count": 203,
     "metadata": {},
     "output_type": "execute_result"
    }
   ],
   "source": [
    "# Get all historical trading data for all stocks\n",
    "start_date = pd.Timestamp('2016-05-01', tz='America/New_York').isoformat()\n",
    "end_date = pd.Timestamp('2021-05-01', tz='America/New_York').isoformat()\n",
    "\n",
    "all_historical_data_df = get_stock_history( ticker_list, start_date, end_date )\n",
    "all_historical_data_df"
   ]
  },
  {
   "cell_type": "markdown",
   "metadata": {},
   "source": [
    "# Hvplot\n",
    "line graph comparing portfolio result v S&P500 or any other available index (Research). Kay Naz bruno "
   ]
  },
  {
   "cell_type": "code",
   "execution_count": null,
   "metadata": {},
   "outputs": [],
   "source": [
    "# Call function"
   ]
  },
  {
   "cell_type": "markdown",
   "metadata": {},
   "source": [
    "---"
   ]
  },
  {
   "cell_type": "markdown",
   "metadata": {},
   "source": [
    "# Calculate portfolio beta, sharp ratio v market.( function) (hv plots) Naz\n"
   ]
  },
  {
   "cell_type": "code",
   "execution_count": null,
   "metadata": {},
   "outputs": [],
   "source": [
    "# Convert the index to datetime format\n",
    "df_portfolio.index = pd.to_datetime(df_portfolio.index)\n",
    "# Extract just the date for the entire index\n",
    "df_portfolio.index = df_portfolio.index.date"
   ]
  },
  {
   "cell_type": "code",
   "execution_count": null,
   "metadata": {},
   "outputs": [],
   "source": [
    "# Calculate and plot the correlation\n",
    "correlation_portoflio = df_portfolio.corr()\n",
    "correlation_portfolio\n",
    "# Display de correlation matrix\n",
    "sns.heatmap(correlation_portfolion, vmin=-1, vmax=1)\n",
    "\n",
    "\n",
    "df_portfolio.pct.change()\n",
    "# Set weights\n",
    "weights = variable_from_above\n",
    "\n",
    "# Calculate portfolio return\n",
    "custom_port_daily_returns_dot = df_portfolio.dot(weights)\n",
    "# Display sample data\n",
    "custom_port_daily_returns_dot.name = \"Portfolio Returns\"\n"
   ]
  },
  {
   "cell_type": "code",
   "execution_count": null,
   "metadata": {},
   "outputs": [],
   "source": [
    "# Beta of portfolio\n",
    "covariance_df = pd.concat([custom_port_daily_returns_dot,df_portfolio], axis=1, join='inner')\n",
    "covariance_df = covariance_df.drop(columns=[], inplace=True)\n",
    "covariance = covariance_df[\"Portfolio Returns\"].cov(covariance_df[\"Benchmark\"])\n",
    "\n",
    "variance = covariance_df[\"Benchmark\"].var()\n",
    "\n",
    "portfolio_beta = covariance/variance\n",
    "    \n",
    "    "
   ]
  },
  {
   "cell_type": "code",
   "execution_count": null,
   "metadata": {},
   "outputs": [],
   "source": [
    "# Sharp Ratio\n",
    "sharp_ratio = (df.mean()*252)/(df.std()*np.sqrt(252))\n",
    "sharp_ratio.sort_values(ascending=False,inplace=True)\n",
    "sharp_ratio"
   ]
  },
  {
   "cell_type": "markdown",
   "metadata": {},
   "source": [
    "# Calculate accumulated returns (cumprod etc) Naz"
   ]
  },
  {
   "cell_type": "code",
   "execution_count": null,
   "metadata": {},
   "outputs": [],
   "source": [
    "initial_investment = portfolio_value_as_per_above\n",
    "\n",
    "cumulative_return = (1+custom_port_daily_returns_dot).cumprod()\n",
    "# Plot cumulative returns\n",
    "cumulative_return.hvplot(figsize = (20,10), title= '');\n",
    "\n",
    "cumulative_profits = initial_investment * cumulative_return\n",
    "cumulative_profits.hvplot(figsize = (20,10), \n",
    "                          title= f'Return over {variable_based_on_above_selection} period'\n",
    "                          \n",
    "                          \n",
    "                          \n",
    "                          \n",
    "                          "
   ]
  },
  {
   "cell_type": "code",
   "execution_count": null,
   "metadata": {},
   "outputs": [],
   "source": [
    "# ROI = (Current Value of Investment - Cost of Investment) / Cost of Investment\n",
    "current_value = as_per_above\n",
    "\n",
    "roi = (current_value - initial_investment) / initial_investment\n",
    "roi_pct = roi * 100\n",
    "print(f\"ROI for an initial investment of ${initial_investment} \"\n",
    "      f\"now priced at ${current_price} \"\n",
    "      f\"is {roi} or {roi_pct}%\")"
   ]
  },
  {
   "cell_type": "markdown",
   "metadata": {},
   "source": [
    "# Monte Carlo Simulation"
   ]
  },
  {
   "cell_type": "code",
   "execution_count": null,
   "metadata": {},
   "outputs": [],
   "source": [
    "# Monte carlo data frame\n",
    "# Reorganize the DataFrame\n",
    "# Separate ticker data\n",
    "Ticker_1 = df_ticker[df_ticker[\"symbol\"]==\"x\"].drop(\"symbol\", axis=1)\n",
    "Ticker_2 = df_ticker[df_ticker[\"symbol\"]==\"x\"].drop(\"symbol\", axis=1)\n",
    "Ticker_3 = df_ticker[df_ticker[\"symbol\"]==\"x\"].drop(\"symbol\", axis=1)\n",
    "\n",
    "# Concatenate the ticker DataFrames\n",
    "df_monte_sim = pd.concat([Ticker_1, Ticker_2, Ticker_3], axis=1, keys=[\"x\",\"x\",\"x\"])\n",
    "\n",
    "# Display sample data\n",
    "df_monte_sim.head()"
   ]
  },
  {
   "cell_type": "code",
   "execution_count": null,
   "metadata": {},
   "outputs": [],
   "source": [
    "#Initialising Monte Carlo Simulation:\n",
    "# Configuring a Monte Carlo simulation to forecast 30 years cumulative returns\n",
    "MC_30_return = MCSimulation(portfolio_data=df_monte_carlo.drop(columns=\"Benchmark\",\n",
    "                            weights=[calculated_above],\n",
    "                            num_simulation=500,\n",
    "                            num_trading_days=252*5)\n",
    "# Printing the simulation input data\n",
    "MC_30_return.portfolio_data.head()\n",
    "\n",
    "# Running a Monte Carlo simulation to forecast 30 years cumulative returns\n",
    "MC_30_return.calc_cumulative_return()\n"
   ]
  },
  {
   "cell_type": "code",
   "execution_count": null,
   "metadata": {},
   "outputs": [],
   "source": [
    "#Desired_weigting = "
   ]
  }
 ],
 "metadata": {
  "kernelspec": {
   "display_name": "Python 3 (ipykernel)",
   "language": "python",
   "name": "python3"
  },
  "language_info": {
   "codemirror_mode": {
    "name": "ipython",
    "version": 3
   },
   "file_extension": ".py",
   "mimetype": "text/x-python",
   "name": "python",
   "nbconvert_exporter": "python",
   "pygments_lexer": "ipython3",
   "version": "3.10.12"
  },
  "nteract": {
   "version": "0.28.0"
  }
 },
 "nbformat": 4,
 "nbformat_minor": 4
}
