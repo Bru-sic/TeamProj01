{
 "cells": [
  {
   "cell_type": "markdown",
   "metadata": {},
   "source": [
    "# Unit 5 - Financial Planning - Alternate Solution"
   ]
  },
  {
   "cell_type": "code",
   "execution_count": 5,
   "metadata": {},
   "outputs": [],
   "source": [
    "# Initial imports\n",
    "import os\n",
    "import requests\n",
    "import pandas as pd\n",
    "# from dotenv import load_dotenv\n",
    "# import alpaca_trade_api as tradeapi\n",
    "\n",
    "from datetime import datetime                   # Import datetime function\n",
    "from datetime import timedelta                  # Import timedelta function\n",
    "\n",
    "from NewForecastTools import MCSimulation       # Import Geometric Brownian Motion (GBM) Monte Carlo simulation model\n",
    "\n",
    "import json\n",
    "import seaborn as sns\n",
    "\n",
    "%matplotlib inline"
   ]
  },
  {
   "cell_type": "markdown",
   "metadata": {},
   "source": [
    "# Initialise Global Variables"
   ]
  },
  {
   "cell_type": "code",
   "execution_count": 126,
   "metadata": {},
   "outputs": [],
   "source": [
    "# Load .env enviroment variables\n"
   ]
  },
  {
   "cell_type": "code",
   "execution_count": null,
   "metadata": {},
   "outputs": [],
   "source": [
    "# Initialise general global variables"
   ]
  },
  {
   "cell_type": "code",
   "execution_count": null,
   "metadata": {},
   "outputs": [],
   "source": [
    "# Intialise the makeup of the portfolio.\n",
    "\n",
    "portfolio = [  # Initialise the portfolio composition.  *** Nice to have: read the portfolio from a csv or database or a GUI (which then save to a csv or database)\n",
    "#    [\"Ticker\", \"Shares\", \"Buy Price\"],   Ticker Code, Number of Shares Owned, Original Purchase Price per share\n",
    "\n",
    "]                                \n",
    "\n",
    "currency_code = \"USD\"            # Set the default currency code which we will be working with.  *** Nice to have: include multi-currency support and currency conversion.\n",
    "\n",
    "base_market_index_code = \"SPY\"   # Set the market index code to be used for comparative purposes against the portfolio.  *** Nice to have: user selects from a list"
   ]
  },
  {
   "cell_type": "code",
   "execution_count": null,
   "metadata": {},
   "outputs": [],
   "source": [
    "# Initialise variables needed for... Kay "
   ]
  },
  {
   "cell_type": "code",
   "execution_count": 2,
   "metadata": {},
   "outputs": [
    {
     "ename": "NameError",
     "evalue": "name 'portfolio' is not defined",
     "output_type": "error",
     "traceback": [
      "\u001b[0;31m---------------------------------------------------------------------------\u001b[0m",
      "\u001b[0;31mNameError\u001b[0m                                 Traceback (most recent call last)",
      "Cell \u001b[0;32mIn[2], line 2\u001b[0m\n\u001b[1;32m      1\u001b[0m \u001b[38;5;66;03m# Initialise variables needed for... Naz\u001b[39;00m\n\u001b[0;32m----> 2\u001b[0m df_portfolio \u001b[38;5;241m=\u001b[39m \u001b[43mportfolio\u001b[49m\n\u001b[1;32m      3\u001b[0m period_for_simulation \u001b[38;5;241m=\u001b[39m time_frame\n",
      "\u001b[0;31mNameError\u001b[0m: name 'portfolio' is not defined"
     ]
    }
   ],
   "source": [
    "# Initialise variables needed for... Naz\n",
    "df_portfolio = portfolio\n",
    "period_for_simulation = time_frame\n",
    "# weights = ??\n"
   ]
  },
  {
   "cell_type": "markdown",
   "metadata": {},
   "source": [
    "# Function Definitions"
   ]
  },
  {
   "cell_type": "markdown",
   "metadata": {},
   "source": [
    "## Function 1"
   ]
  },
  {
   "cell_type": "code",
   "execution_count": null,
   "metadata": {},
   "outputs": [],
   "source": [
    "# Function: my_function1 (function name)\n",
    "# Purpose: adds 1 to the input parameter (What it does)\n",
    "# Inputs: p1 a number which will be incremented (Name of parameters and their purpose)\n",
    "# Outputs: the p1 parameter incredmented by 1 (What it returns, if applicable)\n",
    "\n",
    "def my_function1 ( p1 ):\n",
    "    # \n",
    "    return p1 + 1"
   ]
  },
  {
   "cell_type": "markdown",
   "metadata": {},
   "source": [
    "## Function 2"
   ]
  },
  {
   "cell_type": "code",
   "execution_count": null,
   "metadata": {},
   "outputs": [],
   "source": [
    "# Function: my_function2 (function name)\n",
    "# Purpose: adds 1 to the input parameter (What it does)\n",
    "# Inputs: p1 a number which will be incremented (Name of parameters and their purpose)\n",
    "# Outputs: the p1 parameter incredmented by 1 (What it returns, if applicable)\n",
    "\n",
    "def my_function2 ( p1 ):\n",
    "    # \n",
    "    return p1 + 1"
   ]
  },
  {
   "cell_type": "markdown",
   "metadata": {},
   "source": [
    "## Function 3"
   ]
  },
  {
   "cell_type": "code",
   "execution_count": null,
   "metadata": {},
   "outputs": [],
   "source": [
    "# Function: my_function3 (function name)\n",
    "# Purpose: adds 1 to the input parameter (What it does)\n",
    "# Inputs: p1 a number which will be incremented (Name of parameters and their purpose)\n",
    "# Outputs: the p1 parameter incredmented by 1 (What it returns, if applicable)\n",
    "\n",
    "def my_function3 ( p1 ):\n",
    "    # \n",
    "    return p1 + 1"
   ]
  },
  {
   "cell_type": "markdown",
   "metadata": {},
   "source": [
    "## Add more as required"
   ]
  },
  {
   "cell_type": "markdown",
   "metadata": {},
   "source": [
    "# Main Code Section"
   ]
  },
  {
   "cell_type": "markdown",
   "metadata": {},
   "source": [
    "# Initialise environment variables"
   ]
  },
  {
   "cell_type": "code",
   "execution_count": null,
   "metadata": {},
   "outputs": [],
   "source": [
    "# Call function\n"
   ]
  },
  {
   "cell_type": "markdown",
   "metadata": {},
   "source": [
    "## Initialise / load the Portfolio Composition"
   ]
  },
  {
   "cell_type": "code",
   "execution_count": null,
   "metadata": {},
   "outputs": [],
   "source": [
    "# Call function\n",
    "\n",
    "# output: portfolio"
   ]
  },
  {
   "cell_type": "markdown",
   "metadata": {},
   "source": [
    "## Show Current Value of the Portfolio   \n",
    "Fetch the latest stock prices for the stocks in the portfolio and present a table and a pie chart showing the portfolio composition and current value"
   ]
  },
  {
   "cell_type": "markdown",
   "metadata": {},
   "source": [
    "\n",
    "\n",
    "\n",
    "\n"
   ]
  },
  {
   "cell_type": "code",
   "execution_count": null,
   "metadata": {},
   "outputs": [],
   "source": []
  },
  {
   "cell_type": "markdown",
   "metadata": {},
   "source": [
    "# Determine current portfolio weighting"
   ]
  },
  {
   "cell_type": "code",
   "execution_count": null,
   "metadata": {},
   "outputs": [],
   "source": [
    "# Determine portfolio weighting in each stock/ticker. (calcualte from first step) Kay\n",
    "current_weightings = "
   ]
  },
  {
   "cell_type": "markdown",
   "metadata": {},
   "source": [
    "# Allow User to Select an Investment Timeframe   \n",
    "This will be used to determine period of data to fetch, allow investor to choose comparable timeframe. ( dic or array or menu as fixed option, nice to have will be GUI slider or Menu) Kay"
   ]
  },
  {
   "cell_type": "code",
   "execution_count": null,
   "metadata": {},
   "outputs": [],
   "source": [
    "# Call functions\n",
    "\n",
    "# Output: time_frame     # time frame to fetch"
   ]
  },
  {
   "cell_type": "markdown",
   "metadata": {},
   "source": [
    "# API fetches Ticker data based on timeframe. Bruno\n",
    "Input: portfolio, time_frame\n",
    "Output: \n"
   ]
  },
  {
   "cell_type": "code",
   "execution_count": null,
   "metadata": {},
   "outputs": [],
   "source": [
    "# Call functions"
   ]
  },
  {
   "cell_type": "markdown",
   "metadata": {},
   "source": [
    "# Hvplot\n",
    "line graph comparing portfolio result v S&P500 or any other available index (Research). Kay Naz bruno "
   ]
  },
  {
   "cell_type": "code",
   "execution_count": null,
   "metadata": {},
   "outputs": [],
   "source": [
    "# Call function"
   ]
  },
  {
   "cell_type": "markdown",
   "metadata": {},
   "source": [
    "# Calculate portfolio beta, sharp ratio v market.( function) (hv plots) Naz\n"
   ]
  },
  {
   "cell_type": "code",
   "execution_count": null,
   "metadata": {},
   "outputs": [],
   "source": [
    "# Convert the index to datetime format\n",
    "df_portfolio.index = pd.to_datetime(df_portfolio.index)\n",
    "# Extract just the date for the entire index\n",
    "df_portfolio.index = df_portfolio.index.date"
   ]
  },
  {
   "cell_type": "code",
   "execution_count": null,
   "metadata": {},
   "outputs": [],
   "source": [
    "# Calculate and plot the correlation\n",
    "correlation_portoflio = df_portfolio.corr()\n",
    "correlation_portfolio\n",
    "# Display de correlation matrix\n",
    "sns.heatmap(correlation_portfolion, vmin=-1, vmax=1)\n",
    "\n",
    "\n",
    "df_portfolio.pct.change()\n",
    "# Set weights\n",
    "weights = variable_from_above\n",
    "\n",
    "# Calculate portfolio return\n",
    "custom_port_daily_returns_dot = df_portfolio.dot(weights)\n",
    "# Display sample data\n",
    "custom_port_daily_returns_dot.name = \"Portfolio Returns\"\n"
   ]
  },
  {
   "cell_type": "code",
   "execution_count": null,
   "metadata": {},
   "outputs": [],
   "source": [
    "# Beta of portfolio\n",
    "covariance_df = pd.concat([custom_port_daily_returns_dot,df_portfolio], axis=1, join='inner')\n",
    "covariance_df = covariance_df.drop(columns=[], inplace=True)\n",
    "covariance = covariance_df[\"Portfolio Returns\"].cov(covariance_df[\"Benchmark\"])\n",
    "\n",
    "variance = covariance_df[\"Benchmark\"].var()\n",
    "\n",
    "portfolio_beta = covariance/variance\n",
    "    \n",
    "    "
   ]
  },
  {
   "cell_type": "code",
   "execution_count": null,
   "metadata": {},
   "outputs": [],
   "source": [
    "# Sharp Ratio\n",
    "sharp_ratio = (df.mean()*252)/(df.std()*np.sqrt(252))\n",
    "sharp_ratio.sort_values(ascending=False,inplace=True)\n",
    "sharp_ratio"
   ]
  },
  {
   "cell_type": "markdown",
   "metadata": {},
   "source": [
    "# Calculate accumulated returns (cumprod etc) Naz"
   ]
  },
  {
   "cell_type": "code",
   "execution_count": null,
   "metadata": {},
   "outputs": [],
   "source": [
    "initial_investment = portfolio_value_as_per_above\n",
    "\n",
    "cumulative_return = (1+custom_port_daily_returns_dot).cumprod()\n",
    "# Plot cumulative returns\n",
    "cumulative_return.hvplot(figsize = (20,10), title= '');\n",
    "\n",
    "cumulative_profits = initial_investment * cumulative_return\n",
    "cumulative_profits.hvplot(figsize = (20,10), \n",
    "                          title= f'Return over {variable_based_on_above_selection} period'\n",
    "                          \n",
    "                          \n",
    "                          \n",
    "                          \n",
    "                          "
   ]
  },
  {
   "cell_type": "code",
   "execution_count": null,
   "metadata": {},
   "outputs": [],
   "source": [
    "# ROI = (Current Value of Investment - Cost of Investment) / Cost of Investment\n",
    "current_value = as_per_above\n",
    "\n",
    "roi = (current_value - initial_investment) / initial_investment\n",
    "roi_pct = roi * 100\n",
    "print(f\"ROI for an initial investment of ${initial_investment} \"\n",
    "      f\"now priced at ${current_price} \"\n",
    "      f\"is {roi} or {roi_pct}%\")"
   ]
  },
  {
   "cell_type": "markdown",
   "metadata": {},
   "source": [
    "# Monte Carlo Simulation"
   ]
  },
  {
   "cell_type": "code",
   "execution_count": null,
   "metadata": {},
   "outputs": [],
   "source": [
    "# Monte carlo data frame\n",
    "# Reorganize the DataFrame\n",
    "# Separate ticker data\n",
    "Ticker_1 = df_ticker[df_ticker[\"symbol\"]==\"x\"].drop(\"symbol\", axis=1)\n",
    "Ticker_2 = df_ticker[df_ticker[\"symbol\"]==\"x\"].drop(\"symbol\", axis=1)\n",
    "Ticker_3 = df_ticker[df_ticker[\"symbol\"]==\"x\"].drop(\"symbol\", axis=1)\n",
    "\n",
    "# Concatenate the ticker DataFrames\n",
    "df_monte_sim = pd.concat([Ticker_1, Ticker_2, Ticker_3], axis=1, keys=[\"x\",\"x\",\"x\"])\n",
    "\n",
    "# Display sample data\n",
    "df_monte_sim.head()"
   ]
  },
  {
   "cell_type": "code",
   "execution_count": null,
   "metadata": {},
   "outputs": [],
   "source": [
    "#Initialising Monte Carlo Simulation:\n",
    "# Configuring a Monte Carlo simulation to forecast 30 years cumulative returns\n",
    "MC_30_return = MCSimulation(portfolio_data=df_monte_carlo.drop(columns=\"Benchmark\",\n",
    "                            weights=[calculated_above],\n",
    "                            num_simulation=500,\n",
    "                            num_trading_days=252*5)\n",
    "# Printing the simulation input data\n",
    "MC_30_return.portfolio_data.head()\n",
    "\n",
    "# Running a Monte Carlo simulation to forecast 30 years cumulative returns\n",
    "MC_30_return.calc_cumulative_return()\n"
   ]
  },
  {
   "cell_type": "code",
   "execution_count": null,
   "metadata": {},
   "outputs": [],
   "source": [
    "Desired_weigting = "
   ]
  }
 ],
 "metadata": {
  "kernelspec": {
   "display_name": "Python 3 (ipykernel)",
   "language": "python",
   "name": "python3"
  },
  "language_info": {
   "codemirror_mode": {
    "name": "ipython",
    "version": 3
   },
   "file_extension": ".py",
   "mimetype": "text/x-python",
   "name": "python",
   "nbconvert_exporter": "python",
   "pygments_lexer": "ipython3",
   "version": "3.10.12"
  },
  "nteract": {
   "version": "0.28.0"
  }
 },
 "nbformat": 4,
 "nbformat_minor": 4
}
