{
 "cells": [
  {
   "cell_type": "markdown",
   "metadata": {},
   "source": [
    "# Unit 5 - Financial Planning - Alternate Solution"
   ]
  },
  {
   "cell_type": "code",
   "execution_count": 125,
   "metadata": {},
   "outputs": [],
   "source": [
    "# Initial imports\n",
    "import os\n",
    "import requests\n",
    "import pandas as pd\n",
    "from dotenv import load_dotenv\n",
    "import alpaca_trade_api as tradeapi\n",
    "\n",
    "from datetime import datetime                   # Import datetime function\n",
    "from datetime import timedelta                  # Import timedelta function\n",
    "\n",
    "from NewForecastTools import MCSimulation       # Import Geometric Brownian Motion (GBM) Monte Carlo simulation model\n",
    "\n",
    "import json\n",
    "\n",
    "%matplotlib inline"
   ]
  },
  {
   "cell_type": "markdown",
   "metadata": {},
   "source": [
    "# Initialise Global Variables"
   ]
  },
  {
   "cell_type": "code",
   "execution_count": 126,
   "metadata": {},
   "outputs": [],
   "source": [
    "# Load .env enviroment variables\n"
   ]
  },
  {
   "cell_type": "code",
   "execution_count": null,
   "metadata": {},
   "outputs": [],
   "source": [
    "# Initialise general global variables"
   ]
  },
  {
   "cell_type": "code",
   "execution_count": null,
   "metadata": {},
   "outputs": [],
   "source": [
    "# Intialise the makeup of the portfolio.\n",
    "\n",
    "portfolio = [  # Initialise the portfolio composition.  *** Nice to have: read the portfolio from a csv or database or a GUI (which then save to a csv or database)\n",
    "#    [\"Ticker\", \"Shares\", \"Buy Price\"],   Ticker Code, Number of Shares Owned, Original Purchase Price per share\n",
    "\n",
    "]                                \n",
    "\n",
    "currency_code = \"USD\"            # Set the default currency code which we will be working with.  *** Nice to have: include multi-currency support and currency conversion.\n",
    "\n",
    "base_market_index_code = \"SPY\"   # Set the market index code to be used for comparative purposes against the portfolio.  *** Nice to have: user selects from a list"
   ]
  },
  {
   "cell_type": "code",
   "execution_count": null,
   "metadata": {},
   "outputs": [],
   "source": [
    "# Initialise variables needed for... Kay "
   ]
  },
  {
   "cell_type": "code",
   "execution_count": null,
   "metadata": {},
   "outputs": [],
   "source": [
    "# Initialise variables needed for... Naz"
   ]
  },
  {
   "cell_type": "markdown",
   "metadata": {},
   "source": [
    "# Function Definitions"
   ]
  },
  {
   "cell_type": "markdown",
   "metadata": {},
   "source": [
    "## Function 1"
   ]
  },
  {
   "cell_type": "code",
   "execution_count": null,
   "metadata": {},
   "outputs": [],
   "source": [
    "# Function: my_function1 (function name)\n",
    "# Purpose: adds 1 to the input parameter (What it does)\n",
    "# Inputs: p1 a number which will be incremented (Name of parameters and their purpose)\n",
    "# Outputs: the p1 parameter incredmented by 1 (What it returns, if applicable)\n",
    "\n",
    "def my_function1 ( p1 ):\n",
    "    # \n",
    "    return p1 + 1"
   ]
  },
  {
   "cell_type": "markdown",
   "metadata": {},
   "source": [
    "## Function 2"
   ]
  },
  {
   "cell_type": "code",
   "execution_count": null,
   "metadata": {},
   "outputs": [],
   "source": [
    "# Function: my_function2 (function name)\n",
    "# Purpose: adds 1 to the input parameter (What it does)\n",
    "# Inputs: p1 a number which will be incremented (Name of parameters and their purpose)\n",
    "# Outputs: the p1 parameter incredmented by 1 (What it returns, if applicable)\n",
    "\n",
    "def my_function2 ( p1 ):\n",
    "    # \n",
    "    return p1 + 1"
   ]
  },
  {
   "cell_type": "markdown",
   "metadata": {},
   "source": [
    "## Function 3"
   ]
  },
  {
   "cell_type": "code",
   "execution_count": null,
   "metadata": {},
   "outputs": [],
   "source": [
    "# Function: my_function3 (function name)\n",
    "# Purpose: adds 1 to the input parameter (What it does)\n",
    "# Inputs: p1 a number which will be incremented (Name of parameters and their purpose)\n",
    "# Outputs: the p1 parameter incredmented by 1 (What it returns, if applicable)\n",
    "\n",
    "def my_function3 ( p1 ):\n",
    "    # \n",
    "    return p1 + 1"
   ]
  },
  {
   "cell_type": "markdown",
   "metadata": {},
   "source": [
    "## Add more as required"
   ]
  },
  {
   "cell_type": "markdown",
   "metadata": {},
   "source": [
    "# Main Code Section"
   ]
  },
  {
   "cell_type": "markdown",
   "metadata": {},
   "source": [
    "# Initialise environment variables"
   ]
  },
  {
   "cell_type": "code",
   "execution_count": null,
   "metadata": {},
   "outputs": [],
   "source": [
    "# Call function\n"
   ]
  },
  {
   "cell_type": "markdown",
   "metadata": {},
   "source": [
    "## Initialise / load the Portfolio Composition"
   ]
  },
  {
   "cell_type": "code",
   "execution_count": null,
   "metadata": {},
   "outputs": [],
   "source": [
    "# Call function\n",
    "\n",
    "# output: portfolio"
   ]
  },
  {
   "cell_type": "markdown",
   "metadata": {},
   "source": [
    "## Show Current Value of the Portfolio   \n",
    "Fetch the latest stock prices for the stocks in the portfolio and present a table and a pie chart showing the portfolio composition and current value"
   ]
  },
  {
   "cell_type": "markdown",
   "metadata": {},
   "source": [
    "\n",
    "\n",
    "\n",
    "\n"
   ]
  },
  {
   "cell_type": "code",
   "execution_count": null,
   "metadata": {},
   "outputs": [],
   "source": []
  },
  {
   "cell_type": "markdown",
   "metadata": {},
   "source": [
    "# Determine current portfolio weighting"
   ]
  },
  {
   "cell_type": "code",
   "execution_count": null,
   "metadata": {},
   "outputs": [],
   "source": [
    "# Determine portfolio weighting in each stock/ticker. (calcualte from first step) Kay\n"
   ]
  },
  {
   "cell_type": "markdown",
   "metadata": {},
   "source": [
    "# Allow User to Select an Investment Timeframe   \n",
    "This will be used to determine period of data to fetch, allow investor to choose comparable timeframe. ( dic or array or menu as fixed option, nice to have will be GUI slider or Menu) Kay"
   ]
  },
  {
   "cell_type": "code",
   "execution_count": null,
   "metadata": {},
   "outputs": [],
   "source": [
    "# Call functions\n",
    "\n",
    "# Output: time_frame     # time frame to fetch"
   ]
  },
  {
   "cell_type": "markdown",
   "metadata": {},
   "source": [
    "# API fetches Ticker data based on timeframe. Bruno\n",
    "Input: portfolio, time_frame\n",
    "Output: \n"
   ]
  },
  {
   "cell_type": "code",
   "execution_count": null,
   "metadata": {},
   "outputs": [],
   "source": [
    "# Call functions"
   ]
  },
  {
   "cell_type": "markdown",
   "metadata": {},
   "source": [
    "# Hvplot\n",
    "line graph comparing portfolio result v S&P500 or any other available index (Research). Kay Naz bruno "
   ]
  },
  {
   "cell_type": "code",
   "execution_count": null,
   "metadata": {},
   "outputs": [],
   "source": [
    "# Call function"
   ]
  },
  {
   "cell_type": "markdown",
   "metadata": {},
   "source": [
    "# Calculate portfolio beta, sharp ratio v market.( function) (hv plots) Naz\n"
   ]
  },
  {
   "cell_type": "code",
   "execution_count": null,
   "metadata": {},
   "outputs": [],
   "source": [
    "# Call functions"
   ]
  },
  {
   "cell_type": "markdown",
   "metadata": {},
   "source": [
    "# Calculate accumulated returns (cumprod etc) Naz\n"
   ]
  },
  {
   "cell_type": "code",
   "execution_count": null,
   "metadata": {},
   "outputs": [],
   "source": [
    "# Call functions"
   ]
  },
  {
   "cell_type": "markdown",
   "metadata": {},
   "source": [
    "---"
   ]
  }
 ],
 "metadata": {
  "kernelspec": {
   "display_name": "Python 3 (ipykernel)",
   "language": "python",
   "name": "python3"
  },
  "language_info": {
   "codemirror_mode": {
    "name": "ipython",
    "version": 3
   },
   "file_extension": ".py",
   "mimetype": "text/x-python",
   "name": "python",
   "nbconvert_exporter": "python",
   "pygments_lexer": "ipython3",
   "version": "3.7.13"
  },
  "nteract": {
   "version": "0.28.0"
  }
 },
 "nbformat": 4,
 "nbformat_minor": 4
}
